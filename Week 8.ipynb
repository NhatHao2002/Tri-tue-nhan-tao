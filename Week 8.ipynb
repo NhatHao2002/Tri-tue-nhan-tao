{
  "nbformat": 4,
  "nbformat_minor": 0,
  "metadata": {
    "colab": {
      "provenance": [],
      "authorship_tag": "ABX9TyMiczuwxQaOgV8e3itg+8UC",
      "include_colab_link": true
    },
    "kernelspec": {
      "name": "python3",
      "display_name": "Python 3"
    },
    "language_info": {
      "name": "python"
    }
  },
  "cells": [
    {
      "cell_type": "markdown",
      "metadata": {
        "id": "view-in-github",
        "colab_type": "text"
      },
      "source": [
        "<a href=\"https://colab.research.google.com/github/NhatHao2002/Tri-tue-nhan-tao/blob/main/Week%208.ipynb\" target=\"_parent\"><img src=\"https://colab.research.google.com/assets/colab-badge.svg\" alt=\"Open In Colab\"/></a>"
      ]
    },
    {
      "cell_type": "code",
      "execution_count": 2,
      "metadata": {
        "colab": {
          "base_uri": "https://localhost:8080/"
        },
        "id": "_vKphDuF9cAA",
        "outputId": "db33a2fc-5d8f-4d15-f44a-c5ccd6977b9b"
      },
      "outputs": [
        {
          "output_type": "execute_result",
          "data": {
            "text/plain": [
              "1.0"
            ]
          },
          "metadata": {},
          "execution_count": 2
        }
      ],
      "source": [
        "from sklearn.linear_model import Perceptron\n",
        "x = [[0,0],[1,0],[0,1],[1,1]]\n",
        "y = [0,1,1,1]\n",
        "model = Perceptron()\n",
        "model.fit(x,y)\n",
        "model.score(x,y)"
      ]
    },
    {
      "cell_type": "code",
      "source": [
        "from sklearn.linear_model import Perceptron\n",
        "x1 = [[-0.5,-0.5] ,[10,-2] ,[-1,0.8] ,[3,5] ,[1,0.2] ,[0.1,0.5]]\n",
        "y1 = model.predict(x1)\n",
        "model = Perceptron()\n",
        "model.fit(x,y)\n",
        "print(y1)\n",
        "model.score(x1,y1)"
      ],
      "metadata": {
        "colab": {
          "base_uri": "https://localhost:8080/"
        },
        "id": "DiaHzsB09jeT",
        "outputId": "3aa9e47c-fef6-42bd-c657-37f95d21dade"
      },
      "execution_count": 5,
      "outputs": [
        {
          "output_type": "stream",
          "name": "stdout",
          "text": [
            "[0 1 0 1 1 1]\n"
          ]
        },
        {
          "output_type": "execute_result",
          "data": {
            "text/plain": [
              "1.0"
            ]
          },
          "metadata": {},
          "execution_count": 5
        }
      ]
    },
    {
      "cell_type": "code",
      "source": [
        "from sklearn.linear_model import Perceptron\n",
        "from sklearn import datasets\n",
        "from sklearn.model_selection import train_test_split\n",
        "from sklearn.metrics import accuracy_score\n",
        "from sklearn.preprocessing import StandardScaler"
      ],
      "metadata": {
        "id": "I2SIv20B-Nu_"
      },
      "execution_count": 8,
      "outputs": []
    },
    {
      "cell_type": "code",
      "source": [
        "iris = datasets.load_iris()\n",
        "X = iris.data\n",
        "y = iris.target\n",
        "print(X[:5])\n",
        "print(y[:5])\n",
        "X_train, X_test, y_train, y_test = train_test_split(X, y, test_size = 0.3)\n",
        "sc = StandardScaler()\n",
        "sc.fit(X_train)\n",
        "X_train_std = sc.transform(X_train)\n",
        "X_test_std = sc.transform(X_test)"
      ],
      "metadata": {
        "colab": {
          "base_uri": "https://localhost:8080/"
        },
        "id": "D7tbVqnK-YDN",
        "outputId": "da6f1499-0bc4-4b14-8eba-8363c90eede7"
      },
      "execution_count": 9,
      "outputs": [
        {
          "output_type": "stream",
          "name": "stdout",
          "text": [
            "[[5.1 3.5 1.4 0.2]\n",
            " [4.9 3.  1.4 0.2]\n",
            " [4.7 3.2 1.3 0.2]\n",
            " [4.6 3.1 1.5 0.2]\n",
            " [5.  3.6 1.4 0.2]]\n",
            "[0 0 0 0 0]\n"
          ]
        }
      ]
    },
    {
      "cell_type": "code",
      "source": [
        "model = Perceptron(max_iter=40, eta0=0.1, random_state=0)\n",
        "model.fit(X_train_std, y_train)\n",
        "y_pred = model.predict(X_test_std)\n",
        "print(y_pred)\n",
        "print(y_test)\n",
        "print('Độ chính xác của mô hình:', accuracy_score(y_test, y_pred))"
      ],
      "metadata": {
        "colab": {
          "base_uri": "https://localhost:8080/"
        },
        "id": "g8dO1QMC-_TR",
        "outputId": "697b618d-0304-42d7-c1b0-431f3964753e"
      },
      "execution_count": 10,
      "outputs": [
        {
          "output_type": "stream",
          "name": "stdout",
          "text": [
            "[0 0 0 0 0 0 1 2 2 2 0 0 2 2 0 0 0 2 0 0 2 0 2 0 0 2 2 1 2 2 0 1 2 2 2 2 2\n",
            " 2 0 0 2 1 0 2 2]\n",
            "[0 1 0 0 0 0 1 2 2 1 0 0 1 2 0 0 0 2 0 1 2 0 2 0 0 2 2 1 2 2 0 1 1 1 2 1 2\n",
            " 2 0 0 1 1 0 1 2]\n",
            "Độ chính xác của mô hình: 0.8\n"
          ]
        }
      ]
    },
    {
      "cell_type": "code",
      "source": [
        "import pandas as pd\n",
        "url='crabs.csv'\n",
        "data=pd.read_csv(url)\n",
        "data.head()"
      ],
      "metadata": {
        "id": "Pr7rBSuA_UBt"
      },
      "execution_count": null,
      "outputs": []
    },
    {
      "cell_type": "code",
      "source": [
        "data=data.replace('B',0,regex=True) \n",
        "data=data.replace('O',1,regex=True) \n",
        "data=data.replace('M',1,regex=True) \n",
        "data=data.replace('F',0,regex=True)\n",
        "data.head"
      ],
      "metadata": {
        "colab": {
          "base_uri": "https://localhost:8080/"
        },
        "id": "acuSym99_mYa",
        "outputId": "b881c029-07b6-4a2e-b0ff-c07f62b3f173"
      },
      "execution_count": 12,
      "outputs": [
        {
          "output_type": "execute_result",
          "data": {
            "text/plain": [
              "<bound method NDFrame.head of      speies  sex  index  fontallip  rearwidth  length  width  depth\n",
              "0         0    1      1        8.1        6.7    16.1   19.0    7.0\n",
              "1         0    1      2        8.8        7.7    18.1   20.8    7.4\n",
              "2         0    1      3        9.2        7.8    19.0   22.4    7.7\n",
              "3         0    1      4        9.6        7.9    20.1   23.1    8.2\n",
              "4         0    1      5        9.8        8.0    20.3   23.0    8.2\n",
              "..      ...  ...    ...        ...        ...     ...    ...    ...\n",
              "195       1    0     46       21.4       18.0    41.2   46.2   18.7\n",
              "196       1    0     47       21.7       17.1    41.7   47.2   19.6\n",
              "197       1    0     48       21.9       17.2    42.6   47.4   19.5\n",
              "198       1    0     49       22.5       17.2    43.0   48.7   19.8\n",
              "199       1    0     50       23.1       20.2    46.2   52.5   21.1\n",
              "\n",
              "[200 rows x 8 columns]>"
            ]
          },
          "metadata": {},
          "execution_count": 12
        }
      ]
    },
    {
      "cell_type": "code",
      "source": [
        "print('1.')\n",
        "print(X[:5])\n",
        "print('2.')\n",
        "print(y[:5])\n",
        "X_train,X_test,y_train,y_test=train_test_split(X,y,test_size=0.3)\n",
        "sc=StandardScaler()\n",
        "sc.fit(X_train)\n",
        "X_train_std=sc.transform(X_train)\n",
        "X_test_std=sc.transform(X_test)\n",
        "print('3.')\n",
        "print(X_train[:5])\n",
        "print('4.')\n",
        "print(X_test[:5])\n",
        "print('5.')\n",
        "model=Perceptron(max_iter=100000000,eta0=0.7,random_state=0)\n",
        "model.fit(X_train_std,y_train)\n",
        "y_pred=model.predict(X_test_std)\n",
        "print(y_pred)\n",
        "print('6.')\n",
        "print(y_test)\n",
        "print('7.')\n",
        "print('Do chinh xac cua mo hinh la: ',accuracy_score(y_test,y_pred))"
      ],
      "metadata": {
        "colab": {
          "base_uri": "https://localhost:8080/"
        },
        "id": "Wn-6he3_AKe-",
        "outputId": "2648279c-b424-4201-8a32-cdceeb51bfbe"
      },
      "execution_count": 20,
      "outputs": [
        {
          "output_type": "stream",
          "name": "stdout",
          "text": [
            "1.\n",
            "[[5.1 3.5 1.4 0.2]\n",
            " [4.9 3.  1.4 0.2]\n",
            " [4.7 3.2 1.3 0.2]\n",
            " [4.6 3.1 1.5 0.2]\n",
            " [5.  3.6 1.4 0.2]]\n",
            "2.\n",
            "[0 0 0 0 0]\n",
            "3.\n",
            "[[6.3 2.7 4.9 1.8]\n",
            " [5.7 2.8 4.1 1.3]\n",
            " [6.2 2.9 4.3 1.3]\n",
            " [5.1 3.7 1.5 0.4]\n",
            " [4.4 2.9 1.4 0.2]]\n",
            "4.\n",
            "[[5.1 3.8 1.5 0.3]\n",
            " [5.7 2.6 3.5 1. ]\n",
            " [5.5 2.4 3.7 1. ]\n",
            " [5.  3.4 1.5 0.2]\n",
            " [5.1 3.5 1.4 0.3]]\n",
            "5.\n",
            "[0 0 0 0 0 2 0 2 0 0 0 2 0 0 0 2 2 1 0 2 0 0 0 0 2 2 0 0 2 2 0 0 2 0 0 0 0\n",
            " 2 2 0 2 2 2 2 2]\n",
            "6.\n",
            "[0 1 1 0 0 1 0 2 1 1 0 2 1 0 0 2 2 1 1 2 0 1 0 1 2 2 0 0 1 2 0 0 2 0 0 0 0\n",
            " 2 1 0 2 2 2 2 1]\n",
            "7.\n",
            "Do chinh xac cua mo hinh la:  0.7333333333333333\n"
          ]
        }
      ]
    },
    {
      "cell_type": "code",
      "source": [],
      "metadata": {
        "id": "kVBa_vaIDZnz"
      },
      "execution_count": null,
      "outputs": []
    }
  ]
}